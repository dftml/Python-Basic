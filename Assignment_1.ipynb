{
 "cells": [
  {
   "cell_type": "markdown",
   "id": "9f5e2326",
   "metadata": {},
   "source": [
    "# Assignment_1"
   ]
  },
  {
   "cell_type": "markdown",
   "id": "168efb06",
   "metadata": {},
   "source": [
    "Q.1 In the below elements which of them are values or an expression? eg:- values can be integer or string and expressions will be mathematical operators.\n",
    "*\n",
    "'hello'\n",
    "-87.8\n",
    "- \n",
    "/ \n",
    " +\n",
    "6\n",
    "\n",
    "Ans 1: From the below list give the expressions are *, -, /,  +.\n",
    "       These 'hello', -87.8, 6 are values."
   ]
  },
  {
   "cell_type": "markdown",
   "id": "16e0c280",
   "metadata": {},
   "source": [
    "Q.2 What is the difference between string and variable?\n",
    "\n",
    "Ans 2: String is a data type which provides the information with the use of characters or alphabets, in single or double quotation for a single line, multiline strings are in the triple quote. On the other hand, variables store the information of any data type, it can be a single alphabet, a group of alphabets or an alpha-numeric,  a special character underscore also in use."
   ]
  },
  {
   "cell_type": "markdown",
   "id": "ad7c788c",
   "metadata": {},
   "source": [
    "Q.3 Describe three different data types.\n",
    "\n",
    "Ans 3: In all languages, independent universal symbols have been used with their unique role, through their combination and we communicate our information.\n",
    "\n",
    "In the same way, in programming, there are some fundamental data types present which perform a unique role to execute the task. In Python, there is common data type such as numeric, sequence, mapping, boolean and test. With reference to which type of value is stored on the variables through this, the data type classify.\n",
    "\n",
    "In a numeric data type, it contains the integer, float and complex number values.\n",
    "\n",
    "In a sequence data type, we store the series of data into a single variable and with the help of indexing individual items can be iterable to their position.\n",
    "\n",
    "In a boolean data type, there is bool class use and it has only two types \"True & False\" same as \"ON & OFF\". It helps to find the true conditions of expressions for the execution of the program. "
   ]
  },
  {
   "cell_type": "markdown",
   "id": "3193ccf8",
   "metadata": {},
   "source": [
    "Q.4 What is an expression made up of? What do all expressions do?\n",
    "\n",
    "Ans 4: Expression is a combination of identifiers (class, function, variable module and object), literals (independent terms of data type) and operators (symbols that perform a mathematical or logical function). The interpreter evaluates the expressions corresponding to the combination, it executes the results."
   ]
  },
  {
   "cell_type": "markdown",
   "id": "27a4a0ba",
   "metadata": {},
   "source": [
    "Q.5 This assignment statements, like spam = 10. What is the difference between an expression and a statement?\n",
    "\n",
    "Ans 5: Statement - It is the process of giving instruction to the compiler or interpreter to exucutes the results value, which may or may not display, depends on the statements. Every statements can be expressions.\n",
    "\n",
    "Expressions - It alawys evaluates the result value. Every expressions can't be a statements.  "
   ]
  },
  {
   "cell_type": "markdown",
   "id": "bf6e2574",
   "metadata": {},
   "source": [
    "Q.6 After running the following code, what does the variable bacon contain?\n",
    "bacon = 22\n",
    "bacon + 1\n",
    "\n",
    "\n",
    "Ans 6: After execution of the program \n",
    "bacon = 22\n",
    "bacon +1\n",
    "\n",
    "The value of variable bacon is equal to 22 in first statement. After that the bacon + 1 expression does not reassign the value in bacon. Due to which the variable bacon contain 22."
   ]
  },
  {
   "cell_type": "markdown",
   "id": "2aeeb1b8",
   "metadata": {},
   "source": [
    "Q.7 What should the values of the following two terms be?\n",
    "'spam' + 'spamspam'\n",
    "'spam' * 3\n",
    "\n",
    "Ans 7: In the first statements the first strings simply add with second strings and on the second statements due to the operator the strings repeats itself three times. From both the expressions the value in ouput is 'spamspamspam'."
   ]
  },
  {
   "cell_type": "markdown",
   "id": "ec77f845",
   "metadata": {},
   "source": [
    "Q.8 Why is eggs a valid variable name while 100 is invalid?\n",
    "\n",
    "Ans 8: 100 is an integer value which can't stores memory, it's value never be changed. Variables names can't be integer type. Whereas eggs and string of collection of alphabets which able to store the memory."
   ]
  },
  {
   "cell_type": "markdown",
   "id": "565f7273",
   "metadata": {},
   "source": [
    "Q.9 What three functions can be used to get the integer, floating-point number, or string version of a value?\n",
    "\n",
    "Ans 9: The int(), float(), and str() functions will evaluate to the integer, floating-point number, and string versions of the value passed to them."
   ]
  },
  {
   "cell_type": "markdown",
   "id": "21f63c22",
   "metadata": {},
   "source": [
    "Q.10 Why does this expression cause an error? How can you fix it?\n",
    "'I have eaten ' + 99 + ' burritos.'\n",
    "\n",
    "\n",
    "Ans 10: The expression causes an error because 99 is an integer, and only strings can be concatenated to other strings with the + operator. It can be fix by changing the integer into string using str() function, that is \"I have eaten \" + str(99) + \" burritos.\" or f\"I have eaten {99} burritos.\"."
   ]
  },
  {
   "cell_type": "code",
   "execution_count": 56,
   "id": "aad07e5a",
   "metadata": {},
   "outputs": [
    {
     "data": {
      "text/plain": [
       "'I have eaten 99 burritos.'"
      ]
     },
     "execution_count": 56,
     "metadata": {},
     "output_type": "execute_result"
    }
   ],
   "source": [
    "\"I have eaten \" + str(99) + \" burritos.\""
   ]
  },
  {
   "cell_type": "code",
   "execution_count": 58,
   "id": "8ed3b4dc",
   "metadata": {},
   "outputs": [
    {
     "data": {
      "text/plain": [
       "'I have eaten 99 burritos.'"
      ]
     },
     "execution_count": 58,
     "metadata": {},
     "output_type": "execute_result"
    }
   ],
   "source": [
    "f\"I have eaten {99} burritos.\""
   ]
  }
 ],
 "metadata": {
  "kernelspec": {
   "display_name": "Python 3 (ipykernel)",
   "language": "python",
   "name": "python3"
  },
  "language_info": {
   "codemirror_mode": {
    "name": "ipython",
    "version": 3
   },
   "file_extension": ".py",
   "mimetype": "text/x-python",
   "name": "python",
   "nbconvert_exporter": "python",
   "pygments_lexer": "ipython3",
   "version": "3.9.12"
  }
 },
 "nbformat": 4,
 "nbformat_minor": 5
}
