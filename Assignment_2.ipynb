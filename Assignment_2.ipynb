{
 "cells": [
  {
   "cell_type": "markdown",
   "id": "0a56bd6d",
   "metadata": {},
   "source": [
    "# Assignment_2"
   ]
  },
  {
   "cell_type": "markdown",
   "id": "0bbb00eb",
   "metadata": {},
   "source": [
    "Q.1 What are the two values of the Boolean data type? How do you write them?\n",
    "\n",
    "Ans 1: True and False are the two values of the Boolean data type, it provides the logic to implement the choice in algorithms.\n",
    "\n",
    "The first alphabets \"T\" and \"F\" are in uppercase and the remaining are in lower case \"rue\" and \"alse\", respectively."
   ]
  },
  {
   "cell_type": "markdown",
   "id": "013c1651",
   "metadata": {},
   "source": [
    "Q.2  What are the three different types of Boolean operators?\n",
    "\n",
    "Ans 2: The three different types of boolean operators are and, or, not."
   ]
  },
  {
   "cell_type": "markdown",
   "id": "33cad9e6",
   "metadata": {},
   "source": [
    "Q.3 Make a list of each Boolean operator's truth tables (i.e. every possible combination of Boolean values for the operator and what it evaluate ).\n",
    "\n",
    "Ans 3: The truth table of \"and\" Boolean operator are:\n",
    " True and True is True\n",
    " True and False is False\n",
    " False and True is False\n",
    " False and False is False\n",
    " \n",
    " The truth table of \"or\" Boolean operator are:\n",
    " True or True is True\n",
    " True or False is True\n",
    " False or True is True\n",
    " False or False is False\n",
    " \n",
    " The truth table of \"not\" Boolean operator are:\n",
    " not True is False\n",
    " not False is True"
   ]
  },
  {
   "cell_type": "markdown",
   "id": "4437e768",
   "metadata": {},
   "source": [
    "Q.4 What are the values of the following expressions?\n",
    "\n",
    "\n",
    "Ans 4: The value of those expressions are \n",
    "(5 > 4) and (3 == 5) is False\n",
    "not (5 > 4) is False\n",
    "(5 > 4) or (3 == 5) is True\n",
    "not ((5 > 4) or (3 == 5)) is False\n",
    "(True and True) and (True == False) is False\n",
    "(not False) or (not True) is True"
   ]
  },
  {
   "cell_type": "markdown",
   "id": "3c092eae",
   "metadata": {},
   "source": [
    "Q.5 What are the six comparison operators?\n",
    "\n",
    "Ans 5: The six comparison operators are :\n",
    "1 Equal to is ==\n",
    "2 Not Equal is !=\n",
    "3 Less than or Equal to is <= \n",
    "4 Greater than or Equal to is >=\n",
    "5 Less than is <\n",
    "6 Greater than is >"
   ]
  },
  {
   "cell_type": "markdown",
   "id": "9b2cd335",
   "metadata": {},
   "source": [
    "Q.6 How do you tell the difference between the equal to and assignment operators? Describe a condition and when you would use one.\n",
    "\n",
    "Ans 6: In an equal to operator \"==\" two equal symbols are used which compare and evaluate the boolean value. It is used during the comparison if one value is the same as another one, then only the boolean condition shows True and executes to the next statements.\n",
    "\n",
    "In an assignment operator \"=\" single equal symbols are used which tells the assigning a value to the variables, it stores the data on any variables. It is very inconvenient to repeat any value again and again, for that from the assignment operator the variable stores the value in the memory used repeatedly."
   ]
  },
  {
   "cell_type": "markdown",
   "id": "d506ff70",
   "metadata": {},
   "source": [
    "Q.7 Identify the three blocks in this code:\n",
    "\n",
    "Ans 7: The three blocks in this code are:\n",
    "the first block when if statement executes for print('eggs'),\n",
    "the second block starts with if-else statement,\n",
    "the third block is to print('spam')."
   ]
  },
  {
   "cell_type": "code",
   "execution_count": null,
   "id": "09799c10",
   "metadata": {},
   "outputs": [],
   "source": [
    "spam = 0\n",
    "if spam == 10:\n",
    "    print('eggs')\n",
    "    if spam > 5:\n",
    "        print('bacon')\n",
    "    else:\n",
    "        print('ham')\n",
    "        print('spam')\n",
    "print('spam')"
   ]
  },
  {
   "cell_type": "markdown",
   "id": "532bfff2",
   "metadata": {},
   "source": [
    "Q.8 Write code that prints Hello if 1 is stored in spam, prints Howdy if 2 is stored in spam, and prints Greetings! if anything else is stored in spam."
   ]
  },
  {
   "cell_type": "code",
   "execution_count": 12,
   "id": "8541b6d5",
   "metadata": {},
   "outputs": [
    {
     "name": "stdout",
     "output_type": "stream",
     "text": [
      "Enter the value of spam : 2\n",
      "Howdy\n"
     ]
    }
   ],
   "source": [
    "spam=int(input(\"Enter the value of spam : \"))\n",
    "if spam==1:\n",
    "    print(\"Hello\")\n",
    "elif spam==2:\n",
    "    print(\"Howdy\")\n",
    "else:\n",
    "    print(\"Greetings!\")"
   ]
  },
  {
   "cell_type": "markdown",
   "id": "14a98587",
   "metadata": {},
   "source": [
    "Q.9 If your programme is stuck in an endless loop, what keys you’ll press?\n",
    "\n",
    "Ans 9: Whenver the program is struck in an endless loop just press \"ctrl + C\" to stop the infinite loop."
   ]
  },
  {
   "cell_type": "markdown",
   "id": "f40ebcfd",
   "metadata": {},
   "source": [
    "Q.10 How can you tell the difference between break and continue?\n",
    "\n",
    "Ans 10: The break statement terminates the execution of current loop and passes control over the main body, whereas when continue statement jumps to the next iteration of current loop. "
   ]
  },
  {
   "cell_type": "markdown",
   "id": "b05adb85",
   "metadata": {},
   "source": [
    "Q.11 In a for loop, what is the difference between range(10), range(0, 10), and range(0, 10, 1)?\n",
    "\n",
    "Ans 11: The output of all the ranges is the same but the different syntax has different information the programmer has. In all the cases the programmer wants a value one less than the final point because by default the index position starts from 0 and the difference between the final & initial value tells the number of indexes executed. In case 1 the range(10) depicts the programmer knows the final point of range only and they want to initialize by default from zero. In case 2 the range(0,10) the programmer initialize the range from 0. In case 3 the range (0,10,1) tells that the programmer wants to iterate the loop with how much the difference between their index or it represents the jump between each consecutive index.  \n"
   ]
  },
  {
   "cell_type": "markdown",
   "id": "b308faba",
   "metadata": {},
   "source": [
    "Q.12 Write a short program that prints the numbers 1 to 10 using a for loop. Then write an equivalent program that prints the numbers 1 to 10 using a while loop."
   ]
  },
  {
   "cell_type": "code",
   "execution_count": 6,
   "id": "39f37e74",
   "metadata": {},
   "outputs": [
    {
     "name": "stdout",
     "output_type": "stream",
     "text": [
      "1 2 3 4 5 6 7 8 9 10 "
     ]
    }
   ],
   "source": [
    "for i in range(1,11):\n",
    "    print(i, end=\" \")"
   ]
  },
  {
   "cell_type": "code",
   "execution_count": 1,
   "id": "db4c989a",
   "metadata": {},
   "outputs": [
    {
     "name": "stdout",
     "output_type": "stream",
     "text": [
      "1 2 3 4 5 6 7 8 9 10 "
     ]
    }
   ],
   "source": [
    "i=1\n",
    "while i<11:\n",
    "    print(i, end=\" \")\n",
    "    i=i+1"
   ]
  },
  {
   "cell_type": "markdown",
   "id": "9aed109d",
   "metadata": {},
   "source": [
    "Q.13 If you had a function named bacon() inside a module named spam, how would you call it after importing spam?\n",
    "\n",
    "Ans 13: module.function() syntax is used for calling a function through any modules. Similarly, here spam is a module and bacon() is a function according to that spam.bacon()."
   ]
  }
 ],
 "metadata": {
  "kernelspec": {
   "display_name": "Python 3 (ipykernel)",
   "language": "python",
   "name": "python3"
  },
  "language_info": {
   "codemirror_mode": {
    "name": "ipython",
    "version": 3
   },
   "file_extension": ".py",
   "mimetype": "text/x-python",
   "name": "python",
   "nbconvert_exporter": "python",
   "pygments_lexer": "ipython3",
   "version": "3.9.12"
  }
 },
 "nbformat": 4,
 "nbformat_minor": 5
}
