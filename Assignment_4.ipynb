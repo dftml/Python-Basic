{
 "cells": [
  {
   "cell_type": "raw",
   "id": "b49f6190",
   "metadata": {},
   "source": [
    "Q1. What exactly is []?\n",
    "\n",
    "Ans 1: This is empty list with no item contains."
   ]
  },
  {
   "cell_type": "raw",
   "id": "23741663",
   "metadata": {},
   "source": [
    "Q2. In a list of values stored in a variable called spam, how would you assign the value 'hello' as the third value? (Assume [2, 4, 6, 8, 10] are in spam.)\n",
    "\n",
    "Ans 2: spam[2]='hello'\n",
    "The third value is in index 2 because index starts from 0."
   ]
  },
  {
   "cell_type": "raw",
   "id": "de892455",
   "metadata": {},
   "source": [
    "Let's pretend the spam includes the list ['a', 'b', 'c', 'd'] for the next three queries.\n",
    "\n",
    "Q3. What is the value of spam[int(int('3' * 2) / 11)]?\n",
    "\n",
    "Ans 3: 'd'\n",
    "As '3' is a string when it multiplies by integer 2 it repeats itself two times as a string '33'.\n",
    "After type casting from \"33\" string convert into 33 integer value.\n",
    "On dividing by 11 it gives float value which again types caste to an integer which gives value as 3.\n",
    "spam[3]\n",
    "\n",
    "Q4. What is the value of spam[-1]?\n",
    "\n",
    "Ans 4: 'd'\n",
    "In the list negative index count from end in the reverse direction.\n",
    "\n",
    "Q5. What is the value of spam[:2]?\n",
    "\n",
    "Ans 5: ['a','b']\n",
    "\n",
    "By default if index is not mention it starts from 0 : ends on one less final index mention."
   ]
  },
  {
   "cell_type": "raw",
   "id": "ea7afe6e",
   "metadata": {},
   "source": [
    "Let's pretend bacon has the list [3.14, 'cat,' 11, 'cat,' True] for the next three questions.\n",
    "\n",
    "Q6. What is the value of bacon.index('cat')?\n",
    "\n",
    "Ans 6: Well, the given list is having a invalid syntax 'cat,' 11 and 'cat,' True\n",
    "It should be [3.14, 'cat', 11, 'cat', True].\n",
    "According to above list the value of bacon.index('cat') is 1. \n",
    "\n",
    "\n",
    "Q7. How does bacon.append(99) change the look of the list value in bacon?\n",
    "\n",
    "Ans 7: [3.14, 'cat', 11, 'cat', True,99]\n",
    "\n",
    "If we append the value into list it always add just after the last index.  \n",
    "\n",
    "Q8. How does bacon.remove('cat') change the look of the list in bacon?\n",
    "\n",
    "Ans 8: [3.14, 11, 'cat', True]"
   ]
  },
  {
   "cell_type": "raw",
   "id": "70aa2046",
   "metadata": {},
   "source": [
    "Q9. What are the list concatenation and list replication operators?\n",
    "\n",
    "Ans 9: The + operator is used for list concatenation, whereas * is for replications."
   ]
  },
  {
   "cell_type": "raw",
   "id": "98ad510c",
   "metadata": {},
   "source": [
    "Q10. What is difference between the list methods append() and insert()?\n",
    "\n",
    "Ans 10: The list appends () method takes only one argument which is value and this value concatenation at the end of a list, whereas in insert() method takes two arguments the index and the value, corresponding to the given index value get concatenated."
   ]
  },
  {
   "cell_type": "raw",
   "id": "234b3bab",
   "metadata": {},
   "source": [
    "Q11. What are the two methods for removing items from a list?\n",
    "\n",
    "Ans 11: The pop() method removes the item from the last index and the remove() method deletes the given item as an argument from any index in a list."
   ]
  },
  {
   "cell_type": "raw",
   "id": "8f56fa1e",
   "metadata": {},
   "source": [
    "Q12. Describe how list values and string values are identical.\n",
    "\n",
    "Ans 12. Both lists and strings can be passed to len(), have indexes and slices, be used in for loops, be concatenated or replicated, and be used with the in and not in operators."
   ]
  },
  {
   "cell_type": "raw",
   "id": "1cf86310",
   "metadata": {},
   "source": [
    "Q13. What's the difference between tuples and lists?\n",
    "\n",
    "Ans 13.Lists are mutable it can be changed, added or removed the items from index. Tuples are immutable; they cannot be changed at all. Also, tuples are written using parentheses, ( and ), while lists use the square brackets, [ and ]."
   ]
  },
  {
   "cell_type": "raw",
   "id": "88962c25",
   "metadata": {},
   "source": [
    "Q14. How do you type a tuple value that only contains the integer 42?\n",
    "\n",
    "Ans 14: (42,)\n",
    "\n",
    "The single integer inside a tuple acts as int type of data. To build a single value tuple, we place a comma after the single integer value. "
   ]
  },
  {
   "cell_type": "raw",
   "id": "37ed7aa9",
   "metadata": {},
   "source": [
    "Q15. How do you get a list value's tuple form? How do you get a tuple value's list form?\n",
    "\n",
    "Ans 15: The tuple() function is used to convert list value's tuple form and list() functions is used for a tuple value's list form."
   ]
  },
  {
   "cell_type": "raw",
   "id": "87910d59",
   "metadata": {},
   "source": [
    "Q16. Variables that \"contain\" list values are not necessarily lists themselves. Instead, what do they contain?\n",
    "\n",
    "Ans 16: a = [1,2,3,4,5]\n",
    "where a is now become a references to list values. \n"
   ]
  },
  {
   "cell_type": "raw",
   "id": "08c9f95c",
   "metadata": {},
   "source": [
    "Q17. How do you distinguish between copy.copy() and copy.deepcopy()?\n",
    "\n",
    "Ans 17: The copy.copy() performs a shallow copy in which a new space is created with their reference of original, any changes performs in the copy or original they reflect each other, vice-versa.\n",
    "\n",
    "The copy.deepcopy() performs a deep copy in which a new space is creted by recursive manner, any changes on copy or original they do not reflect each other. "
   ]
  }
 ],
 "metadata": {
  "kernelspec": {
   "display_name": "Python 3 (ipykernel)",
   "language": "python",
   "name": "python3"
  },
  "language_info": {
   "codemirror_mode": {
    "name": "ipython",
    "version": 3
   },
   "file_extension": ".py",
   "mimetype": "text/x-python",
   "name": "python",
   "nbconvert_exporter": "python",
   "pygments_lexer": "ipython3",
   "version": "3.10.4"
  }
 },
 "nbformat": 4,
 "nbformat_minor": 5
}
