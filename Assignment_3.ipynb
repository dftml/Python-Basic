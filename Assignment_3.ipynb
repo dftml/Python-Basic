{
 "cells": [
  {
   "cell_type": "markdown",
   "id": "932e1f0a",
   "metadata": {},
   "source": [
    "# Assignment_3"
   ]
  },
  {
   "cell_type": "markdown",
   "id": "8701b8ca",
   "metadata": {},
   "source": [
    "Q1. Why are functions advantageous to have in your programs?\n",
    "\n",
    "Ans 1: Functions provides the reducing duplication of code, decomposing complex problems into simpler pieces, improving clarity of the code, reuse of code and information hiding."
   ]
  },
  {
   "cell_type": "raw",
   "id": "ab51a64c",
   "metadata": {},
   "source": [
    "Q2. When does the code in a function run: when it's specified or when it's called?\n",
    "\n",
    "Ans 2: The function executes only when it is called, if it is only specified in that case it behaves as a function in the '__main__', but does not execute. \n"
   ]
  },
  {
   "cell_type": "raw",
   "id": "1d15aa2b",
   "metadata": {},
   "source": [
    "Q3. What statement creates a function?\n",
    "\n",
    "Ans 3: The def statement is used to create or define a function."
   ]
  },
  {
   "cell_type": "raw",
   "id": "5c9bef02",
   "metadata": {},
   "source": [
    "Q4. What is the difference between a function and a function call?\n",
    "\n",
    "\n",
    "Ans 4: A function only acts as a function when it is used to def keyword before declare and parentheses & colon after declare in the \"__main__\" and it contains the groups of instructions or statements to perform.\n",
    "\n",
    "A function call means that we execute the existence function in program and after performing some task it should return something to the function call."
   ]
  },
  {
   "cell_type": "raw",
   "id": "635cd988",
   "metadata": {},
   "source": [
    "Q5. How many global scopes are there in a Python program? How many local scopes?\n",
    "\n",
    "Ans 5: Only one global scope is declared in the '__main__'. According to the function, many local variables can exist in a Python program."
   ]
  },
  {
   "cell_type": "raw",
   "id": "dc08697e",
   "metadata": {},
   "source": [
    "Q6. What happens to variables in a local scope when the function call returns?\n",
    "\n",
    "Ans 6: The local scope declared variables only exist inside the function when the function call returns it then it destroy the local scope, it clear the memory of the variables."
   ]
  },
  {
   "cell_type": "raw",
   "id": "4038138b",
   "metadata": {},
   "source": [
    "Q7. What is the concept of a return value? Is it possible to have a return value in an expression?\n",
    "\n",
    "Ans 7: Whenever any function calls the \"__main__\" program jumps toward the function defined and executes to follow all the expressions and return to a function call. Yes, same as all values the return value can be used in an expression."
   ]
  },
  {
   "cell_type": "raw",
   "id": "28d0af73",
   "metadata": {},
   "source": [
    "Q8. If a function does not have a return statement, what is the return value of a call to that function?\n",
    "\n",
    "Ans 8: If the function call and the defined function do not contain a return statement, in that case, its return value is None."
   ]
  },
  {
   "cell_type": "raw",
   "id": "5dd1eb7d",
   "metadata": {},
   "source": [
    "Q9. How do you make a function variable refer to the global variable?\n",
    "\n",
    "Ans 9: A global keyword is used to convert the function variable into the global variable."
   ]
  },
  {
   "cell_type": "raw",
   "id": "11fa2f58",
   "metadata": {},
   "source": [
    "Q10. What is the data type of None?\n",
    "\n",
    "Ans 10: The data type of None is NoneType."
   ]
  },
  {
   "cell_type": "code",
   "execution_count": 6,
   "id": "e69b2793",
   "metadata": {},
   "outputs": [
    {
     "data": {
      "text/plain": [
       "NoneType"
      ]
     },
     "execution_count": 6,
     "metadata": {},
     "output_type": "execute_result"
    }
   ],
   "source": [
    "type(None)"
   ]
  },
  {
   "cell_type": "raw",
   "id": "01bb18ac",
   "metadata": {},
   "source": [
    "Q11:  What does the sentence import areallyourpetsnamederic do?\n",
    "\n",
    "Ans 11: The import statement is used to access the module named inside our program."
   ]
  },
  {
   "cell_type": "raw",
   "id": "606e59cc",
   "metadata": {},
   "source": [
    "Q12: If you had a bacon() feature in a spam module, what would you call it after importing spam?\n",
    "\n",
    "Ans 12: To use this bacon() function in our program call spam.bacon()."
   ]
  },
  {
   "cell_type": "raw",
   "id": "9795c06f",
   "metadata": {},
   "source": [
    "Q13: What can you do to save a programme from crashing if it encounters an error?\n",
    "\n",
    "Ans 13: I kept the programme inside the try block if it crashes, then the control is passed to the except block and to execute the programme or raise an error. Due to this, we save the programme by crashing."
   ]
  },
  {
   "cell_type": "raw",
   "id": "df8fe7a2",
   "metadata": {},
   "source": [
    "Q14: What is the purpose of the try clause? What is the purpose of the except clause?\n",
    "\n",
    "Ans 14: If the program statements can give an error then a try clause is used, and the controls jump into except clause. The except clause is used to execute the program or to solve the error that occurred in the try clause or raise an error."
   ]
  }
 ],
 "metadata": {
  "kernelspec": {
   "display_name": "Python 3 (ipykernel)",
   "language": "python",
   "name": "python3"
  },
  "language_info": {
   "codemirror_mode": {
    "name": "ipython",
    "version": 3
   },
   "file_extension": ".py",
   "mimetype": "text/x-python",
   "name": "python",
   "nbconvert_exporter": "python",
   "pygments_lexer": "ipython3",
   "version": "3.9.12"
  }
 },
 "nbformat": 4,
 "nbformat_minor": 5
}
